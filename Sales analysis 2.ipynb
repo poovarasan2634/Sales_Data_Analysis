{
 "cells": [
  {
   "cell_type": "code",
   "execution_count": 1,
   "id": "dc136ec9",
   "metadata": {},
   "outputs": [],
   "source": [
    "import pandas as pd"
   ]
  },
  {
   "cell_type": "code",
   "execution_count": 2,
   "id": "2b3f55b3",
   "metadata": {},
   "outputs": [],
   "source": [
    "# Load the CSV file into a DataFrame\n",
    "Data = pd.read_csv(r\"C:\\Users\\DELL\\Downloads\\Sample_Data_Ingestion.csv\")"
   ]
  },
  {
   "cell_type": "code",
   "execution_count": 3,
   "id": "d9a5d7e3",
   "metadata": {},
   "outputs": [
    {
     "data": {
      "text/html": [
       "<div>\n",
       "<style scoped>\n",
       "    .dataframe tbody tr th:only-of-type {\n",
       "        vertical-align: middle;\n",
       "    }\n",
       "\n",
       "    .dataframe tbody tr th {\n",
       "        vertical-align: top;\n",
       "    }\n",
       "\n",
       "    .dataframe thead th {\n",
       "        text-align: right;\n",
       "    }\n",
       "</style>\n",
       "<table border=\"1\" class=\"dataframe\">\n",
       "  <thead>\n",
       "    <tr style=\"text-align: right;\">\n",
       "      <th></th>\n",
       "      <th>OrderID</th>\n",
       "      <th>CustomerName</th>\n",
       "      <th>PhoneNumber</th>\n",
       "      <th>Location</th>\n",
       "      <th>Country</th>\n",
       "      <th>StoreCode</th>\n",
       "      <th>Product</th>\n",
       "      <th>Quantity</th>\n",
       "      <th>Price</th>\n",
       "      <th>Date</th>\n",
       "      <th>CreditCardNumber</th>\n",
       "      <th>ExpiryDate</th>\n",
       "    </tr>\n",
       "  </thead>\n",
       "  <tbody>\n",
       "    <tr>\n",
       "      <th>0</th>\n",
       "      <td>HEXHEV</td>\n",
       "      <td>John Doe</td>\n",
       "      <td>+1 990-186-7268</td>\n",
       "      <td>New York</td>\n",
       "      <td>USA</td>\n",
       "      <td>ST026</td>\n",
       "      <td>Phone</td>\n",
       "      <td>5.000000</td>\n",
       "      <td>979.970</td>\n",
       "      <td>18-07-2021</td>\n",
       "      <td>5676 8888 7887 7263</td>\n",
       "      <td>Jul-29</td>\n",
       "    </tr>\n",
       "    <tr>\n",
       "      <th>1</th>\n",
       "      <td>JCKRFW</td>\n",
       "      <td>John Doe</td>\n",
       "      <td>+1 659-832-6831</td>\n",
       "      <td>New York</td>\n",
       "      <td>USA</td>\n",
       "      <td>ST154</td>\n",
       "      <td>Headphones</td>\n",
       "      <td>1.000000</td>\n",
       "      <td>218.940</td>\n",
       "      <td>01-02-2020</td>\n",
       "      <td>5676 8888 7887 8526</td>\n",
       "      <td>Jan-23</td>\n",
       "    </tr>\n",
       "    <tr>\n",
       "      <th>2</th>\n",
       "      <td>PZXZUL</td>\n",
       "      <td>John Doe</td>\n",
       "      <td>+1 564-127-5258</td>\n",
       "      <td>Houston</td>\n",
       "      <td>USA</td>\n",
       "      <td>ST013</td>\n",
       "      <td>Headphones</td>\n",
       "      <td>4.000000</td>\n",
       "      <td>823.080</td>\n",
       "      <td>11-10-2020</td>\n",
       "      <td>5676 8888 7887 1823</td>\n",
       "      <td>Mar-29</td>\n",
       "    </tr>\n",
       "    <tr>\n",
       "      <th>3</th>\n",
       "      <td>QELSGN</td>\n",
       "      <td>John Doe</td>\n",
       "      <td>+1 571-789-2219</td>\n",
       "      <td>Los Angeles</td>\n",
       "      <td>USA</td>\n",
       "      <td>ST029</td>\n",
       "      <td>Tablet</td>\n",
       "      <td>10.000000</td>\n",
       "      <td>572.400</td>\n",
       "      <td>17-08-2021</td>\n",
       "      <td>5676 8888 7887 1242</td>\n",
       "      <td>Nov-23</td>\n",
       "    </tr>\n",
       "    <tr>\n",
       "      <th>4</th>\n",
       "      <td>KCFBLY</td>\n",
       "      <td>Alice Smith</td>\n",
       "      <td>+1 631-561-3575</td>\n",
       "      <td>Chicago</td>\n",
       "      <td>UK</td>\n",
       "      <td>ST140</td>\n",
       "      <td>Laptop</td>\n",
       "      <td>6.000000</td>\n",
       "      <td>226.930</td>\n",
       "      <td>21-03-2021</td>\n",
       "      <td>5676 8888 7887 9764</td>\n",
       "      <td>Feb-27</td>\n",
       "    </tr>\n",
       "    <tr>\n",
       "      <th>...</th>\n",
       "      <td>...</td>\n",
       "      <td>...</td>\n",
       "      <td>...</td>\n",
       "      <td>...</td>\n",
       "      <td>...</td>\n",
       "      <td>...</td>\n",
       "      <td>...</td>\n",
       "      <td>...</td>\n",
       "      <td>...</td>\n",
       "      <td>...</td>\n",
       "      <td>...</td>\n",
       "      <td>...</td>\n",
       "    </tr>\n",
       "    <tr>\n",
       "      <th>94</th>\n",
       "      <td>KVZCLD</td>\n",
       "      <td>Robert Johnson</td>\n",
       "      <td>+1 753-733-7136</td>\n",
       "      <td>Houston</td>\n",
       "      <td>Australia</td>\n",
       "      <td>ST144</td>\n",
       "      <td>Laptop</td>\n",
       "      <td>151.742857</td>\n",
       "      <td>4067.490</td>\n",
       "      <td>22-08-2020</td>\n",
       "      <td>5686 8888 7887 4076</td>\n",
       "      <td>Oct-28</td>\n",
       "    </tr>\n",
       "    <tr>\n",
       "      <th>95</th>\n",
       "      <td>LVZGLX</td>\n",
       "      <td>Robert Johnson</td>\n",
       "      <td>+1 873-866-8773</td>\n",
       "      <td>New York</td>\n",
       "      <td>UK</td>\n",
       "      <td>ST071</td>\n",
       "      <td>Tablet</td>\n",
       "      <td>154.200000</td>\n",
       "      <td>4133.035</td>\n",
       "      <td>23-11-2021</td>\n",
       "      <td>5686 8888 7887 8573</td>\n",
       "      <td>May-26</td>\n",
       "    </tr>\n",
       "    <tr>\n",
       "      <th>96</th>\n",
       "      <td>CPLUKY</td>\n",
       "      <td>Alice Smith</td>\n",
       "      <td>+1 657-683-1942</td>\n",
       "      <td>Chicago</td>\n",
       "      <td>USA</td>\n",
       "      <td>ST113</td>\n",
       "      <td>Laptop</td>\n",
       "      <td>156.657143</td>\n",
       "      <td>4198.580</td>\n",
       "      <td>12-01-2020</td>\n",
       "      <td>5686 8888 7887 3871</td>\n",
       "      <td>Aug-24</td>\n",
       "    </tr>\n",
       "    <tr>\n",
       "      <th>97</th>\n",
       "      <td>NFCXII</td>\n",
       "      <td>Robert Johnson</td>\n",
       "      <td>+1 784-282-1391</td>\n",
       "      <td>Los Angeles</td>\n",
       "      <td>UK</td>\n",
       "      <td>ST125</td>\n",
       "      <td>Laptop</td>\n",
       "      <td>159.114286</td>\n",
       "      <td>4264.125</td>\n",
       "      <td>26-01-2022</td>\n",
       "      <td>5686 8888 7887 5522</td>\n",
       "      <td>Aug-24</td>\n",
       "    </tr>\n",
       "    <tr>\n",
       "      <th>98</th>\n",
       "      <td>DRTYF</td>\n",
       "      <td>Test User1011</td>\n",
       "      <td>+1 657-683-1998</td>\n",
       "      <td>Mumbai</td>\n",
       "      <td>India</td>\n",
       "      <td>IN454</td>\n",
       "      <td>Phone</td>\n",
       "      <td>161.571429</td>\n",
       "      <td>4329.670</td>\n",
       "      <td>26-01-2023</td>\n",
       "      <td>4232 8888 6654 8876</td>\n",
       "      <td>Dec-24</td>\n",
       "    </tr>\n",
       "  </tbody>\n",
       "</table>\n",
       "<p>99 rows × 12 columns</p>\n",
       "</div>"
      ],
      "text/plain": [
       "   OrderID    CustomerName      PhoneNumber     Location    Country StoreCode  \\\n",
       "0   HEXHEV        John Doe  +1 990-186-7268     New York        USA     ST026   \n",
       "1   JCKRFW        John Doe  +1 659-832-6831     New York        USA     ST154   \n",
       "2   PZXZUL        John Doe  +1 564-127-5258      Houston        USA     ST013   \n",
       "3   QELSGN        John Doe  +1 571-789-2219  Los Angeles        USA     ST029   \n",
       "4   KCFBLY     Alice Smith  +1 631-561-3575      Chicago         UK     ST140   \n",
       "..     ...             ...              ...          ...        ...       ...   \n",
       "94  KVZCLD  Robert Johnson  +1 753-733-7136      Houston  Australia     ST144   \n",
       "95  LVZGLX  Robert Johnson  +1 873-866-8773     New York         UK     ST071   \n",
       "96  CPLUKY     Alice Smith  +1 657-683-1942      Chicago        USA     ST113   \n",
       "97  NFCXII  Robert Johnson  +1 784-282-1391  Los Angeles         UK     ST125   \n",
       "98   DRTYF   Test User1011  +1 657-683-1998       Mumbai      India     IN454   \n",
       "\n",
       "       Product    Quantity     Price        Date     CreditCardNumber  \\\n",
       "0        Phone    5.000000   979.970  18-07-2021  5676 8888 7887 7263   \n",
       "1   Headphones    1.000000   218.940  01-02-2020  5676 8888 7887 8526   \n",
       "2   Headphones    4.000000   823.080  11-10-2020  5676 8888 7887 1823   \n",
       "3       Tablet   10.000000   572.400  17-08-2021  5676 8888 7887 1242   \n",
       "4       Laptop    6.000000   226.930  21-03-2021  5676 8888 7887 9764   \n",
       "..         ...         ...       ...         ...                  ...   \n",
       "94      Laptop  151.742857  4067.490  22-08-2020  5686 8888 7887 4076   \n",
       "95      Tablet  154.200000  4133.035  23-11-2021  5686 8888 7887 8573   \n",
       "96      Laptop  156.657143  4198.580  12-01-2020  5686 8888 7887 3871   \n",
       "97      Laptop  159.114286  4264.125  26-01-2022  5686 8888 7887 5522   \n",
       "98       Phone  161.571429  4329.670  26-01-2023  4232 8888 6654 8876   \n",
       "\n",
       "   ExpiryDate  \n",
       "0      Jul-29  \n",
       "1      Jan-23  \n",
       "2      Mar-29  \n",
       "3      Nov-23  \n",
       "4      Feb-27  \n",
       "..        ...  \n",
       "94     Oct-28  \n",
       "95     May-26  \n",
       "96     Aug-24  \n",
       "97     Aug-24  \n",
       "98     Dec-24  \n",
       "\n",
       "[99 rows x 12 columns]"
      ]
     },
     "execution_count": 3,
     "metadata": {},
     "output_type": "execute_result"
    }
   ],
   "source": [
    "Data"
   ]
  },
  {
   "cell_type": "code",
   "execution_count": 4,
   "id": "34533360",
   "metadata": {},
   "outputs": [
    {
     "name": "stdout",
     "output_type": "stream",
     "text": [
      "<class 'pandas.core.frame.DataFrame'>\n",
      "RangeIndex: 99 entries, 0 to 98\n",
      "Data columns (total 12 columns):\n",
      " #   Column            Non-Null Count  Dtype  \n",
      "---  ------            --------------  -----  \n",
      " 0   OrderID           99 non-null     object \n",
      " 1   CustomerName      99 non-null     object \n",
      " 2   PhoneNumber       99 non-null     object \n",
      " 3   Location          99 non-null     object \n",
      " 4   Country           99 non-null     object \n",
      " 5   StoreCode         99 non-null     object \n",
      " 6   Product           99 non-null     object \n",
      " 7   Quantity          99 non-null     float64\n",
      " 8   Price             99 non-null     float64\n",
      " 9   Date              99 non-null     object \n",
      " 10  CreditCardNumber  99 non-null     object \n",
      " 11  ExpiryDate        99 non-null     object \n",
      "dtypes: float64(2), object(10)\n",
      "memory usage: 9.4+ KB\n"
     ]
    }
   ],
   "source": [
    "Data.info()"
   ]
  },
  {
   "cell_type": "code",
   "execution_count": 12,
   "id": "640e0b56",
   "metadata": {},
   "outputs": [
    {
     "data": {
      "text/html": [
       "<div>\n",
       "<style scoped>\n",
       "    .dataframe tbody tr th:only-of-type {\n",
       "        vertical-align: middle;\n",
       "    }\n",
       "\n",
       "    .dataframe tbody tr th {\n",
       "        vertical-align: top;\n",
       "    }\n",
       "\n",
       "    .dataframe thead th {\n",
       "        text-align: right;\n",
       "    }\n",
       "</style>\n",
       "<table border=\"1\" class=\"dataframe\">\n",
       "  <thead>\n",
       "    <tr style=\"text-align: right;\">\n",
       "      <th></th>\n",
       "      <th>OrderID</th>\n",
       "      <th>CustomerName</th>\n",
       "      <th>PhoneNumber</th>\n",
       "      <th>Location</th>\n",
       "      <th>Country</th>\n",
       "      <th>StoreCode</th>\n",
       "      <th>Product</th>\n",
       "      <th>Quantity</th>\n",
       "      <th>Price</th>\n",
       "      <th>Date</th>\n",
       "      <th>CreditCardNumber</th>\n",
       "      <th>ExpiryDate</th>\n",
       "    </tr>\n",
       "  </thead>\n",
       "  <tbody>\n",
       "    <tr>\n",
       "      <th>0</th>\n",
       "      <td>False</td>\n",
       "      <td>False</td>\n",
       "      <td>False</td>\n",
       "      <td>False</td>\n",
       "      <td>False</td>\n",
       "      <td>False</td>\n",
       "      <td>False</td>\n",
       "      <td>False</td>\n",
       "      <td>False</td>\n",
       "      <td>False</td>\n",
       "      <td>False</td>\n",
       "      <td>False</td>\n",
       "    </tr>\n",
       "    <tr>\n",
       "      <th>1</th>\n",
       "      <td>False</td>\n",
       "      <td>False</td>\n",
       "      <td>False</td>\n",
       "      <td>False</td>\n",
       "      <td>False</td>\n",
       "      <td>False</td>\n",
       "      <td>False</td>\n",
       "      <td>False</td>\n",
       "      <td>False</td>\n",
       "      <td>False</td>\n",
       "      <td>False</td>\n",
       "      <td>False</td>\n",
       "    </tr>\n",
       "    <tr>\n",
       "      <th>2</th>\n",
       "      <td>False</td>\n",
       "      <td>False</td>\n",
       "      <td>False</td>\n",
       "      <td>False</td>\n",
       "      <td>False</td>\n",
       "      <td>False</td>\n",
       "      <td>False</td>\n",
       "      <td>False</td>\n",
       "      <td>False</td>\n",
       "      <td>False</td>\n",
       "      <td>False</td>\n",
       "      <td>False</td>\n",
       "    </tr>\n",
       "    <tr>\n",
       "      <th>3</th>\n",
       "      <td>False</td>\n",
       "      <td>False</td>\n",
       "      <td>False</td>\n",
       "      <td>False</td>\n",
       "      <td>False</td>\n",
       "      <td>False</td>\n",
       "      <td>False</td>\n",
       "      <td>False</td>\n",
       "      <td>False</td>\n",
       "      <td>False</td>\n",
       "      <td>False</td>\n",
       "      <td>False</td>\n",
       "    </tr>\n",
       "    <tr>\n",
       "      <th>4</th>\n",
       "      <td>False</td>\n",
       "      <td>False</td>\n",
       "      <td>False</td>\n",
       "      <td>False</td>\n",
       "      <td>False</td>\n",
       "      <td>False</td>\n",
       "      <td>False</td>\n",
       "      <td>False</td>\n",
       "      <td>False</td>\n",
       "      <td>False</td>\n",
       "      <td>False</td>\n",
       "      <td>False</td>\n",
       "    </tr>\n",
       "    <tr>\n",
       "      <th>...</th>\n",
       "      <td>...</td>\n",
       "      <td>...</td>\n",
       "      <td>...</td>\n",
       "      <td>...</td>\n",
       "      <td>...</td>\n",
       "      <td>...</td>\n",
       "      <td>...</td>\n",
       "      <td>...</td>\n",
       "      <td>...</td>\n",
       "      <td>...</td>\n",
       "      <td>...</td>\n",
       "      <td>...</td>\n",
       "    </tr>\n",
       "    <tr>\n",
       "      <th>94</th>\n",
       "      <td>False</td>\n",
       "      <td>False</td>\n",
       "      <td>False</td>\n",
       "      <td>False</td>\n",
       "      <td>False</td>\n",
       "      <td>False</td>\n",
       "      <td>False</td>\n",
       "      <td>False</td>\n",
       "      <td>False</td>\n",
       "      <td>False</td>\n",
       "      <td>False</td>\n",
       "      <td>False</td>\n",
       "    </tr>\n",
       "    <tr>\n",
       "      <th>95</th>\n",
       "      <td>False</td>\n",
       "      <td>False</td>\n",
       "      <td>False</td>\n",
       "      <td>False</td>\n",
       "      <td>False</td>\n",
       "      <td>False</td>\n",
       "      <td>False</td>\n",
       "      <td>False</td>\n",
       "      <td>False</td>\n",
       "      <td>False</td>\n",
       "      <td>False</td>\n",
       "      <td>False</td>\n",
       "    </tr>\n",
       "    <tr>\n",
       "      <th>96</th>\n",
       "      <td>False</td>\n",
       "      <td>False</td>\n",
       "      <td>False</td>\n",
       "      <td>False</td>\n",
       "      <td>False</td>\n",
       "      <td>False</td>\n",
       "      <td>False</td>\n",
       "      <td>False</td>\n",
       "      <td>False</td>\n",
       "      <td>False</td>\n",
       "      <td>False</td>\n",
       "      <td>False</td>\n",
       "    </tr>\n",
       "    <tr>\n",
       "      <th>97</th>\n",
       "      <td>False</td>\n",
       "      <td>False</td>\n",
       "      <td>False</td>\n",
       "      <td>False</td>\n",
       "      <td>False</td>\n",
       "      <td>False</td>\n",
       "      <td>False</td>\n",
       "      <td>False</td>\n",
       "      <td>False</td>\n",
       "      <td>False</td>\n",
       "      <td>False</td>\n",
       "      <td>False</td>\n",
       "    </tr>\n",
       "    <tr>\n",
       "      <th>98</th>\n",
       "      <td>False</td>\n",
       "      <td>False</td>\n",
       "      <td>False</td>\n",
       "      <td>False</td>\n",
       "      <td>False</td>\n",
       "      <td>False</td>\n",
       "      <td>False</td>\n",
       "      <td>False</td>\n",
       "      <td>False</td>\n",
       "      <td>False</td>\n",
       "      <td>False</td>\n",
       "      <td>False</td>\n",
       "    </tr>\n",
       "  </tbody>\n",
       "</table>\n",
       "<p>99 rows × 12 columns</p>\n",
       "</div>"
      ],
      "text/plain": [
       "    OrderID  CustomerName  PhoneNumber  Location  Country  StoreCode  Product  \\\n",
       "0     False         False        False     False    False      False    False   \n",
       "1     False         False        False     False    False      False    False   \n",
       "2     False         False        False     False    False      False    False   \n",
       "3     False         False        False     False    False      False    False   \n",
       "4     False         False        False     False    False      False    False   \n",
       "..      ...           ...          ...       ...      ...        ...      ...   \n",
       "94    False         False        False     False    False      False    False   \n",
       "95    False         False        False     False    False      False    False   \n",
       "96    False         False        False     False    False      False    False   \n",
       "97    False         False        False     False    False      False    False   \n",
       "98    False         False        False     False    False      False    False   \n",
       "\n",
       "    Quantity  Price   Date  CreditCardNumber  ExpiryDate  \n",
       "0      False  False  False             False       False  \n",
       "1      False  False  False             False       False  \n",
       "2      False  False  False             False       False  \n",
       "3      False  False  False             False       False  \n",
       "4      False  False  False             False       False  \n",
       "..       ...    ...    ...               ...         ...  \n",
       "94     False  False  False             False       False  \n",
       "95     False  False  False             False       False  \n",
       "96     False  False  False             False       False  \n",
       "97     False  False  False             False       False  \n",
       "98     False  False  False             False       False  \n",
       "\n",
       "[99 rows x 12 columns]"
      ]
     },
     "execution_count": 12,
     "metadata": {},
     "output_type": "execute_result"
    }
   ],
   "source": [
    "Data.isnull()"
   ]
  },
  {
   "cell_type": "code",
   "execution_count": 15,
   "id": "64b44efd",
   "metadata": {},
   "outputs": [
    {
     "data": {
      "text/plain": [
       "OrderID             0\n",
       "CustomerName        0\n",
       "PhoneNumber         0\n",
       "Location            0\n",
       "Country             0\n",
       "StoreCode           0\n",
       "Product             0\n",
       "Quantity            0\n",
       "Price               0\n",
       "Date                0\n",
       "CreditCardNumber    0\n",
       "ExpiryDate          0\n",
       "dtype: int64"
      ]
     },
     "execution_count": 15,
     "metadata": {},
     "output_type": "execute_result"
    }
   ],
   "source": [
    "Data.isnull().sum()"
   ]
  },
  {
   "cell_type": "code",
   "execution_count": 21,
   "id": "5db00a4c",
   "metadata": {},
   "outputs": [
    {
     "data": {
      "text/plain": [
       "array(['USA', 'UK', 'Australia', 'Canada', 'India'], dtype=object)"
      ]
     },
     "execution_count": 21,
     "metadata": {},
     "output_type": "execute_result"
    }
   ],
   "source": [
    "Data['Country'].unique()"
   ]
  },
  {
   "cell_type": "code",
   "execution_count": 23,
   "id": "58de817d",
   "metadata": {},
   "outputs": [
    {
     "data": {
      "text/plain": [
       "5"
      ]
     },
     "execution_count": 23,
     "metadata": {},
     "output_type": "execute_result"
    }
   ],
   "source": [
    "Data['Country'].nunique()"
   ]
  },
  {
   "cell_type": "code",
   "execution_count": 24,
   "id": "123ddf51",
   "metadata": {},
   "outputs": [
    {
     "data": {
      "text/plain": [
       "array(['New York', 'Houston', 'Los Angeles', 'Chicago', 'Mumbai'],\n",
       "      dtype=object)"
      ]
     },
     "execution_count": 24,
     "metadata": {},
     "output_type": "execute_result"
    }
   ],
   "source": [
    "Data['Location'].unique()"
   ]
  },
  {
   "cell_type": "code",
   "execution_count": 25,
   "id": "b48d9b4d",
   "metadata": {},
   "outputs": [
    {
     "data": {
      "text/plain": [
       "5"
      ]
     },
     "execution_count": 25,
     "metadata": {},
     "output_type": "execute_result"
    }
   ],
   "source": [
    "Data['Location'].nunique()"
   ]
  },
  {
   "cell_type": "code",
   "execution_count": 26,
   "id": "cdbd1b33",
   "metadata": {},
   "outputs": [
    {
     "data": {
      "text/plain": [
       "array(['ST026', 'ST154', 'ST013', 'ST029', 'ST140', 'ST199', 'ST042',\n",
       "       'ST057', 'ST018', 'ST040', 'ST001', 'ST190', 'ST143', 'ST076',\n",
       "       'ST048', 'ST146', 'ST125', 'ST058', 'ST163', 'ST155', 'ST192',\n",
       "       'ST157', 'ST060', 'ST075', 'ST168', 'ST037', 'ST132', 'ST071',\n",
       "       'ST124', 'ST156', 'ST034', 'ST183', 'ST144', 'ST113', 'IN444',\n",
       "       'IN445', 'IN446', 'IN447', 'IN448', 'IN449', 'IN450', 'IN451',\n",
       "       'IN452', 'IN453', 'IN454'], dtype=object)"
      ]
     },
     "execution_count": 26,
     "metadata": {},
     "output_type": "execute_result"
    }
   ],
   "source": [
    "Data['StoreCode'].unique()"
   ]
  },
  {
   "cell_type": "code",
   "execution_count": 27,
   "id": "699d264f",
   "metadata": {},
   "outputs": [
    {
     "data": {
      "text/plain": [
       "45"
      ]
     },
     "execution_count": 27,
     "metadata": {},
     "output_type": "execute_result"
    }
   ],
   "source": [
    "Data['StoreCode'].nunique()"
   ]
  },
  {
   "cell_type": "code",
   "execution_count": 36,
   "id": "7cd1b951",
   "metadata": {},
   "outputs": [
    {
     "data": {
      "text/plain": [
       "array(['Phone', 'Headphones', 'Tablet', 'Laptop'], dtype=object)"
      ]
     },
     "execution_count": 36,
     "metadata": {},
     "output_type": "execute_result"
    }
   ],
   "source": [
    "Data['Product'].unique()"
   ]
  },
  {
   "cell_type": "code",
   "execution_count": 37,
   "id": "8093a299",
   "metadata": {},
   "outputs": [
    {
     "data": {
      "text/plain": [
       "4"
      ]
     },
     "execution_count": 37,
     "metadata": {},
     "output_type": "execute_result"
    }
   ],
   "source": [
    "Data['Product'].nunique()"
   ]
  },
  {
   "cell_type": "code",
   "execution_count": 49,
   "id": "695b91d7",
   "metadata": {},
   "outputs": [
    {
     "data": {
      "text/plain": [
       "array(['5676 8888 7887 7263', '5676 8888 7887 8526',\n",
       "       '5676 8888 7887 1823', '5676 8888 7887 1242',\n",
       "       '5676 8888 7887 9764', '5676 8888 7887 2334',\n",
       "       '5676 8888 7887 6182', '5676 8888 7887 5001',\n",
       "       '5676 8888 7887 3084', '5676 8888 7887 6360',\n",
       "       '5676 8888 7887 7677', '5676 8888 7887 9108',\n",
       "       '5676 8888 7887 9735', '5676 8888 7887 9579',\n",
       "       '5676 8888 7887 9528', '5676 8888 7887 8289',\n",
       "       '5676 8888 7887 6899', '5676 8888 7887 8334',\n",
       "       '5676 8888 7887 6476', '5676 8888 7887 1946',\n",
       "       '5676 8888 7887 9226', '5676 8888 7887 7237',\n",
       "       '5676 8888 7887 7537', '5676 8888 7887 5727',\n",
       "       '5676 8888 7887 4496', '5676 8888 7887 3288',\n",
       "       '5676 8888 7887 6911', '5676 8888 7887 3880',\n",
       "       '5676 8888 7887 4548', '5676 8888 7887 9253',\n",
       "       '5676 8888 7887 7586', '5676 8888 7887 8096',\n",
       "       '5676 8888 7887 3257', '5676 8888 7887 6066',\n",
       "       '5676 8888 7887 4076', '5676 8888 7887 8573',\n",
       "       '5676 8888 7887 3871', '5676 8888 7887 5522',\n",
       "       '4222 8888 6654 8876', '5677 8888 7887 6066',\n",
       "       '5677 8888 7887 4076', '5677 8888 7887 8573',\n",
       "       '5677 8888 7887 3871', '5677 8888 7887 5522',\n",
       "       '4223 8888 6654 8876', '5678 8888 7887 6066',\n",
       "       '5678 8888 7887 4076', '5678 8888 7887 8573',\n",
       "       '5678 8888 7887 3871', '5678 8888 7887 5522',\n",
       "       '4224 8888 6654 8876', '5679 8888 7887 6066',\n",
       "       '5679 8888 7887 4076', '5679 8888 7887 8573',\n",
       "       '5679 8888 7887 3871', '5679 8888 7887 5522',\n",
       "       '4225 8888 6654 8876', '5680 8888 7887 6066',\n",
       "       '5680 8888 7887 4076', '5680 8888 7887 8573',\n",
       "       '5680 8888 7887 3871', '5680 8888 7887 5522',\n",
       "       '4226 8888 6654 8876', '5681 8888 7887 6066',\n",
       "       '5681 8888 7887 4076', '5681 8888 7887 8573',\n",
       "       '5681 8888 7887 3871', '5681 8888 7887 5522',\n",
       "       '4227 8888 6654 8876', '5682 8888 7887 6066',\n",
       "       '5682 8888 7887 4076', '5682 8888 7887 8573',\n",
       "       '5682 8888 7887 3871', '5682 8888 7887 5522',\n",
       "       '4228 8888 6654 8876', '5683 8888 7887 6066',\n",
       "       '5683 8888 7887 4076', '5683 8888 7887 8573',\n",
       "       '5683 8888 7887 3871', '5683 8888 7887 5522',\n",
       "       '4229 8888 6654 8876', '5684 8888 7887 6066',\n",
       "       '5684 8888 7887 4076', '5684 8888 7887 8573',\n",
       "       '5684 8888 7887 3871', '5684 8888 7887 5522',\n",
       "       '4230 8888 6654 8876', '5685 8888 7887 6066',\n",
       "       '5685 8888 7887 4076', '5685 8888 7887 8573',\n",
       "       '5685 8888 7887 3871', '5685 8888 7887 5522',\n",
       "       '4231 8888 6654 8876', '5686 8888 7887 6066',\n",
       "       '5686 8888 7887 4076', '5686 8888 7887 8573',\n",
       "       '5686 8888 7887 3871', '5686 8888 7887 5522',\n",
       "       '4232 8888 6654 8876'], dtype=object)"
      ]
     },
     "execution_count": 49,
     "metadata": {},
     "output_type": "execute_result"
    }
   ],
   "source": [
    "Data['CreditCardNumber'].unique()"
   ]
  },
  {
   "cell_type": "code",
   "execution_count": 50,
   "id": "5c4bce10",
   "metadata": {},
   "outputs": [
    {
     "data": {
      "text/plain": [
       "99"
      ]
     },
     "execution_count": 50,
     "metadata": {},
     "output_type": "execute_result"
    }
   ],
   "source": [
    "Data['CreditCardNumber'].nunique()"
   ]
  },
  {
   "cell_type": "code",
   "execution_count": 29,
   "id": "62efb4f7",
   "metadata": {},
   "outputs": [
    {
     "name": "stdout",
     "output_type": "stream",
     "text": [
      "Country\n",
      "Australia     933.000000\n",
      "Canada         42.000000\n",
      "India         974.285714\n",
      "UK           1867.285714\n",
      "USA          1798.571429\n",
      "Name: Quantity, dtype: float64\n"
     ]
    }
   ],
   "source": [
    "Total_quantity_sold_per_country = Data.groupby('Country')['Quantity'].sum()\n",
    "\n",
    "print(Total_quantity_sold_per_country)"
   ]
  },
  {
   "cell_type": "code",
   "execution_count": 35,
   "id": "f3ee0f50",
   "metadata": {},
   "outputs": [
    {
     "name": "stdout",
     "output_type": "stream",
     "text": [
      "Country\n",
      "Australia    [Headphones, Tablet, Phone, Laptop]\n",
      "Canada       [Headphones, Phone, Laptop, Tablet]\n",
      "India                                    [Phone]\n",
      "UK           [Laptop, Phone, Tablet, Headphones]\n",
      "USA          [Phone, Headphones, Tablet, Laptop]\n",
      "Name: Product, dtype: object\n"
     ]
    }
   ],
   "source": [
    "Product_sold_per_country = Data.groupby('Country')['Product'].unique()\n",
    "\n",
    "print(Product_sold_per_country)"
   ]
  },
  {
   "cell_type": "code",
   "execution_count": 34,
   "id": "057a9f74",
   "metadata": {},
   "outputs": [
    {
     "name": "stdout",
     "output_type": "stream",
     "text": [
      "Country\n",
      "Australia    4\n",
      "Canada       4\n",
      "India        1\n",
      "UK           4\n",
      "USA          4\n",
      "Name: Product, dtype: int64\n"
     ]
    }
   ],
   "source": [
    "Product_sold_per_country = Data.groupby('Country')['Product'].nunique()\n",
    "\n",
    "print(Product_sold_per_country)"
   ]
  },
  {
   "cell_type": "code",
   "execution_count": 38,
   "id": "796b72cd",
   "metadata": {},
   "outputs": [
    {
     "name": "stdout",
     "output_type": "stream",
     "text": [
      "Location\n",
      "Chicago        [Laptop, Headphones, Phone, Tablet]\n",
      "Houston        [Headphones, Tablet, Phone, Laptop]\n",
      "Los Angeles                [Tablet, Phone, Laptop]\n",
      "Mumbai                                     [Phone]\n",
      "New York       [Phone, Headphones, Tablet, Laptop]\n",
      "Name: Product, dtype: object\n"
     ]
    }
   ],
   "source": [
    "Product_sold_per_Location = Data.groupby('Location')['Product'].unique()\n",
    "\n",
    "print(Product_sold_per_Location)"
   ]
  },
  {
   "cell_type": "code",
   "execution_count": 39,
   "id": "8bb168e1",
   "metadata": {},
   "outputs": [
    {
     "name": "stdout",
     "output_type": "stream",
     "text": [
      "Location\n",
      "Chicago        4\n",
      "Houston        4\n",
      "Los Angeles    3\n",
      "Mumbai         1\n",
      "New York       4\n",
      "Name: Product, dtype: int64\n"
     ]
    }
   ],
   "source": [
    "Product_sold_per_Location = Data.groupby('Location')['Product'].nunique()\n",
    "\n",
    "print(Product_sold_per_Location)"
   ]
  },
  {
   "cell_type": "code",
   "execution_count": 41,
   "id": "7e7d53ed",
   "metadata": {},
   "outputs": [
    {
     "name": "stdout",
     "output_type": "stream",
     "text": [
      "Country    Location   \n",
      "Australia  Chicago                            [Tablet]\n",
      "           Houston        [Headphones, Tablet, Laptop]\n",
      "           Los Angeles         [Phone, Laptop, Tablet]\n",
      "           New York        [Headphones, Tablet, Phone]\n",
      "Canada     Chicago                [Headphones, Tablet]\n",
      "           Houston                        [Headphones]\n",
      "           Los Angeles                        [Laptop]\n",
      "           New York                            [Phone]\n",
      "India      Mumbai                              [Phone]\n",
      "UK         Chicago         [Laptop, Phone, Headphones]\n",
      "           Los Angeles                 [Laptop, Phone]\n",
      "           New York                   [Tablet, Laptop]\n",
      "USA        Chicago                            [Laptop]\n",
      "           Houston         [Headphones, Phone, Laptop]\n",
      "           Los Angeles                        [Tablet]\n",
      "           New York        [Phone, Headphones, Laptop]\n",
      "Name: Product, dtype: object\n"
     ]
    }
   ],
   "source": [
    "Product_sold_per = Data.groupby(['Country', 'Location'])['Product'].unique()\n",
    "\n",
    "# Display the result\n",
    "print(Product_sold_per)"
   ]
  },
  {
   "cell_type": "code",
   "execution_count": 42,
   "id": "42104dce",
   "metadata": {},
   "outputs": [
    {
     "name": "stdout",
     "output_type": "stream",
     "text": [
      "Country    Location   \n",
      "Australia  Chicago        1\n",
      "           Houston        3\n",
      "           Los Angeles    3\n",
      "           New York       3\n",
      "Canada     Chicago        2\n",
      "           Houston        1\n",
      "           Los Angeles    1\n",
      "           New York       1\n",
      "India      Mumbai         1\n",
      "UK         Chicago        3\n",
      "           Los Angeles    2\n",
      "           New York       2\n",
      "USA        Chicago        1\n",
      "           Houston        3\n",
      "           Los Angeles    1\n",
      "           New York       3\n",
      "Name: Product, dtype: int64\n"
     ]
    }
   ],
   "source": [
    "Product_sold_per = Data.groupby(['Country', 'Location'])['Product'].nunique()\n",
    "\n",
    "# Display the result\n",
    "print(Product_sold_per)"
   ]
  },
  {
   "cell_type": "code",
   "execution_count": 46,
   "id": "c44d1479",
   "metadata": {},
   "outputs": [
    {
     "name": "stdout",
     "output_type": "stream",
     "text": [
      "      Country     Location     Product    Quantity\n",
      "0   Australia      Chicago      Tablet    4.000000\n",
      "1   Australia      Houston  Headphones    7.000000\n",
      "2   Australia      Houston      Laptop  856.000000\n",
      "3   Australia      Houston      Tablet    6.000000\n",
      "4   Australia  Los Angeles      Laptop    8.000000\n",
      "5   Australia  Los Angeles       Phone    9.000000\n",
      "6   Australia  Los Angeles      Tablet   10.000000\n",
      "7   Australia     New York  Headphones    8.000000\n",
      "8   Australia     New York       Phone    8.000000\n",
      "9   Australia     New York      Tablet   17.000000\n",
      "10     Canada      Chicago  Headphones   10.000000\n",
      "11     Canada      Chicago      Tablet    2.000000\n",
      "12     Canada      Houston  Headphones    9.000000\n",
      "13     Canada  Los Angeles      Laptop   16.000000\n",
      "14     Canada     New York       Phone    5.000000\n",
      "15      India       Mumbai       Phone  974.285714\n",
      "16         UK      Chicago  Headphones    8.000000\n",
      "17         UK      Chicago      Laptop    6.000000\n",
      "18         UK      Chicago       Phone    2.000000\n",
      "19         UK  Los Angeles      Laptop  945.714286\n",
      "20         UK  Los Angeles       Phone   10.000000\n",
      "21         UK     New York      Laptop    8.000000\n",
      "22         UK     New York      Tablet  887.571429\n",
      "23        USA      Chicago      Laptop  915.142857\n",
      "24        USA      Houston  Headphones   13.000000\n",
      "25        USA      Houston      Laptop  838.428571\n",
      "26        USA      Houston       Phone    6.000000\n",
      "27        USA  Los Angeles      Tablet   10.000000\n",
      "28        USA     New York  Headphones    1.000000\n",
      "29        USA     New York      Laptop   10.000000\n",
      "30        USA     New York       Phone    5.000000\n"
     ]
    }
   ],
   "source": [
    "# Group by 'Country', 'Location', and 'Product', then sum the 'Quantity'\n",
    "products_sold_summary = Data.groupby(['Country', 'Location', 'Product'])['Quantity'].sum()\n",
    "\n",
    "# Reset index to turn MultiIndex into columns\n",
    "products_sold_summary = products_sold_summary.reset_index()\n",
    "\n",
    "# Display the result\n",
    "print(products_sold_summary)"
   ]
  },
  {
   "cell_type": "code",
   "execution_count": 48,
   "id": "acb4795a",
   "metadata": {},
   "outputs": [
    {
     "name": "stdout",
     "output_type": "stream",
     "text": [
      "   StoreCode     Product    Quantity\n",
      "0      IN444       Phone   22.000000\n",
      "1      IN445       Phone   28.885714\n",
      "2      IN446       Phone   43.628571\n",
      "3      IN447       Phone   58.371429\n",
      "4      IN448       Phone   73.114286\n",
      "5      IN449       Phone   87.857143\n",
      "6      IN450       Phone  102.600000\n",
      "7      IN451       Phone  117.342857\n",
      "8      IN452       Phone  132.085714\n",
      "9      IN453       Phone  146.828571\n",
      "10     IN454       Phone  161.571429\n",
      "11     ST001      Tablet    5.000000\n",
      "12     ST013  Headphones    4.000000\n",
      "13     ST018  Headphones    9.000000\n",
      "14     ST026       Phone    5.000000\n",
      "15     ST029      Tablet   10.000000\n",
      "16     ST034      Laptop    8.000000\n",
      "17     ST037      Laptop    4.000000\n",
      "18     ST040       Phone    2.000000\n",
      "19     ST042  Headphones    4.000000\n",
      "20     ST042       Phone   10.000000\n",
      "21     ST048      Tablet    4.000000\n",
      "22     ST057  Headphones   10.000000\n",
      "23     ST058  Headphones    4.000000\n",
      "24     ST060      Laptop    8.000000\n",
      "25     ST071      Tablet  884.571429\n",
      "26     ST075      Tablet   10.000000\n",
      "27     ST076       Phone    9.000000\n",
      "28     ST113      Laptop  904.142857\n",
      "29     ST124      Laptop    8.000000\n",
      "30     ST125      Laptop  945.714286\n",
      "31     ST132       Phone    6.000000\n",
      "32     ST140      Laptop    6.000000\n",
      "33     ST143      Tablet   10.000000\n",
      "34     ST144      Laptop  856.000000\n",
      "35     ST146  Headphones    9.000000\n",
      "36     ST154  Headphones    1.000000\n",
      "37     ST155      Tablet    6.000000\n",
      "38     ST156      Laptop    8.000000\n",
      "39     ST157  Headphones    8.000000\n",
      "40     ST157      Laptop   10.000000\n",
      "41     ST163  Headphones    7.000000\n",
      "42     ST168      Tablet    7.000000\n",
      "43     ST183      Laptop  838.428571\n",
      "44     ST190       Phone    5.000000\n",
      "45     ST192       Phone    8.000000\n",
      "46     ST199      Laptop    7.000000\n"
     ]
    }
   ],
   "source": [
    "# Group by 'StoreCode' and 'Product', then sum the 'Quantity'\n",
    "store_product_sales = Data.groupby(['StoreCode', 'Product'])['Quantity'].sum()\n",
    "\n",
    "# Reset index to turn MultiIndex into columns\n",
    "store_product_sales = store_product_sales.reset_index()\n",
    "\n",
    "# Display the result\n",
    "print(store_product_sales)"
   ]
  },
  {
   "cell_type": "code",
   "execution_count": 47,
   "id": "2cc8afdb",
   "metadata": {},
   "outputs": [
    {
     "name": "stdout",
     "output_type": "stream",
     "text": [
      "      Country     Location StoreCode     Product    Quantity\n",
      "0   Australia      Chicago     ST048      Tablet    4.000000\n",
      "1   Australia      Houston     ST144      Laptop  856.000000\n",
      "2   Australia      Houston     ST155      Tablet    6.000000\n",
      "3   Australia      Houston     ST163  Headphones    7.000000\n",
      "4   Australia  Los Angeles     ST075      Tablet   10.000000\n",
      "5   Australia  Los Angeles     ST076       Phone    9.000000\n",
      "6   Australia  Los Angeles     ST125      Laptop    8.000000\n",
      "7   Australia     New York     ST042  Headphones    4.000000\n",
      "8   Australia     New York     ST058  Headphones    4.000000\n",
      "9   Australia     New York     ST143      Tablet   10.000000\n",
      "10  Australia     New York     ST168      Tablet    7.000000\n",
      "11  Australia     New York     ST192       Phone    8.000000\n",
      "12     Canada      Chicago     ST057  Headphones   10.000000\n",
      "13     Canada      Chicago     ST071      Tablet    2.000000\n",
      "14     Canada      Houston     ST146  Headphones    9.000000\n",
      "15     Canada  Los Angeles     ST060      Laptop    8.000000\n",
      "16     Canada  Los Angeles     ST124      Laptop    8.000000\n",
      "17     Canada     New York     ST190       Phone    5.000000\n",
      "18      India       Mumbai     IN444       Phone   22.000000\n",
      "19      India       Mumbai     IN445       Phone   28.885714\n",
      "20      India       Mumbai     IN446       Phone   43.628571\n",
      "21      India       Mumbai     IN447       Phone   58.371429\n",
      "22      India       Mumbai     IN448       Phone   73.114286\n",
      "23      India       Mumbai     IN449       Phone   87.857143\n",
      "24      India       Mumbai     IN450       Phone  102.600000\n",
      "25      India       Mumbai     IN451       Phone  117.342857\n",
      "26      India       Mumbai     IN452       Phone  132.085714\n",
      "27      India       Mumbai     IN453       Phone  146.828571\n",
      "28      India       Mumbai     IN454       Phone  161.571429\n",
      "29         UK      Chicago     ST040       Phone    2.000000\n",
      "30         UK      Chicago     ST140      Laptop    6.000000\n",
      "31         UK      Chicago     ST157  Headphones    8.000000\n",
      "32         UK  Los Angeles     ST034      Laptop    8.000000\n",
      "33         UK  Los Angeles     ST042       Phone   10.000000\n",
      "34         UK  Los Angeles     ST125      Laptop  937.714286\n",
      "35         UK     New York     ST001      Tablet    5.000000\n",
      "36         UK     New York     ST071      Tablet  882.571429\n",
      "37         UK     New York     ST156      Laptop    8.000000\n",
      "38        USA      Chicago     ST037      Laptop    4.000000\n",
      "39        USA      Chicago     ST113      Laptop  904.142857\n",
      "40        USA      Chicago     ST199      Laptop    7.000000\n",
      "41        USA      Houston     ST013  Headphones    4.000000\n",
      "42        USA      Houston     ST018  Headphones    9.000000\n",
      "43        USA      Houston     ST132       Phone    6.000000\n",
      "44        USA      Houston     ST183      Laptop  838.428571\n",
      "45        USA  Los Angeles     ST029      Tablet   10.000000\n",
      "46        USA     New York     ST026       Phone    5.000000\n",
      "47        USA     New York     ST154  Headphones    1.000000\n",
      "48        USA     New York     ST157      Laptop   10.000000\n"
     ]
    }
   ],
   "source": [
    "# Group by 'Country', 'Location', 'StoreCode', and 'Product', then sum the 'Quantity'\n",
    "store_sales_summary = Data.groupby(['Country', 'Location', 'StoreCode', 'Product'])['Quantity'].sum()\n",
    "\n",
    "# Reset index to turn MultiIndex into columns\n",
    "store_sales_summary = store_sales_summary.reset_index()\n",
    "\n",
    "# Display the result\n",
    "print(store_sales_summary)"
   ]
  },
  {
   "cell_type": "code",
   "execution_count": 51,
   "id": "f40d9301",
   "metadata": {},
   "outputs": [
    {
     "name": "stdout",
     "output_type": "stream",
     "text": [
      "      Country     Location  UniqueCreditCardCount\n",
      "0   Australia      Chicago                      1\n",
      "1   Australia      Houston                     13\n",
      "2   Australia  Los Angeles                      3\n",
      "3   Australia     New York                      5\n",
      "4      Canada      Chicago                      2\n",
      "5      Canada      Houston                      1\n",
      "6      Canada  Los Angeles                      2\n",
      "7      Canada     New York                      1\n",
      "8       India       Mumbai                     11\n",
      "9          UK      Chicago                      3\n",
      "10         UK  Los Angeles                     13\n",
      "11         UK     New York                     13\n",
      "12        USA      Chicago                     13\n",
      "13        USA      Houston                     14\n",
      "14        USA  Los Angeles                      1\n",
      "15        USA     New York                      3\n"
     ]
    }
   ],
   "source": [
    "# Group by 'Country' and 'Location', then count unique 'CreditCardNumber'\n",
    "unique_credit_cards_per_location = Data.groupby(['Country', 'Location'])['CreditCardNumber'].nunique()\n",
    "\n",
    "# Reset index to turn MultiIndex into columns for easier readability\n",
    "unique_credit_cards_per_location = unique_credit_cards_per_location.reset_index()\n",
    "\n",
    "# Rename the columns for clarity\n",
    "unique_credit_cards_per_location.columns = ['Country', 'Location', 'UniqueCreditCardCount']\n",
    "\n",
    "# Display the result\n",
    "print(unique_credit_cards_per_location)"
   ]
  },
  {
   "cell_type": "code",
   "execution_count": null,
   "id": "0d8f5af9",
   "metadata": {},
   "outputs": [],
   "source": []
  },
  {
   "cell_type": "code",
   "execution_count": null,
   "id": "c23fc5c4",
   "metadata": {},
   "outputs": [],
   "source": []
  }
 ],
 "metadata": {
  "kernelspec": {
   "display_name": "Python 3 (ipykernel)",
   "language": "python",
   "name": "python3"
  },
  "language_info": {
   "codemirror_mode": {
    "name": "ipython",
    "version": 3
   },
   "file_extension": ".py",
   "mimetype": "text/x-python",
   "name": "python",
   "nbconvert_exporter": "python",
   "pygments_lexer": "ipython3",
   "version": "3.10.11"
  }
 },
 "nbformat": 4,
 "nbformat_minor": 5
}
